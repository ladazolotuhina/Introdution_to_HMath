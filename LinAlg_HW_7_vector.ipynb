{
 "cells": [
  {
   "cell_type": "markdown",
   "id": "f3aed663",
   "metadata": {},
   "source": [
    "# Матрицы, векторы"
   ]
  },
  {
   "cell_type": "code",
   "execution_count": 2,
   "id": "8fd42cf2",
   "metadata": {},
   "outputs": [],
   "source": [
    "import numpy as np\n",
    "import matplotlib.pyplot as plt\n",
    "\n",
    "%matplotlib inline\n",
    "%config InlineBackend.figure_format = 'svg'"
   ]
  },
  {
   "cell_type": "markdown",
   "id": "a7e1e13f",
   "metadata": {},
   "source": [
    "### Задание 1. \n",
    "Вектор – это частный случай матрицы 1хN и Nх1. Повторите материал для векторов, уделяя особое внимание умножению A∙B.  \n",
    "Вычислите, по возможности не используя программирование: $(5E)^{-1}$, где Е – единичная матрица размера 5х5.\n"
   ]
  },
  {
   "cell_type": "code",
   "execution_count": 3,
   "id": "39c7a6f4",
   "metadata": {},
   "outputs": [
    {
     "name": "stdout",
     "output_type": "stream",
     "text": [
      "А =  [[ 1  3]\n",
      " [-1  1]\n",
      " [ 2  5]]\n",
      "B =  [[ 2 -6  1]\n",
      " [ 1  3 -1]]\n",
      "C =  [[-1]\n",
      " [ 2]\n",
      " [ 4]]\n",
      "(3, 2) (2, 3) (3, 1)\n"
     ]
    }
   ],
   "source": [
    "a = (np.matrix([[ 1, 3],[ -1, 1],[2, 5]]))\n",
    "b = np.array([[ 2, -6,  1],[ 1, 3, -1]])\n",
    "c = np.array([[ -1],[ 2],[4]])\n",
    "print(\"А = \", a)\n",
    "print(\"B = \", b)\n",
    "print(\"C = \", c)\n",
    "print(a.shape, b.shape, c.shape)"
   ]
  },
  {
   "cell_type": "markdown",
   "id": "cc840de2",
   "metadata": {},
   "source": [
    "По правилу умножения матриц существует произведения ${A\\cdot{B}=D_{3x3}}$, ${B\\cdot{A}=F_{2x2}}$,${B\\cdot{C}=G_{2x1}}$, а значит можно найти и произведение ${D\\cdot{C}=H_{3x1}}$\n"
   ]
  },
  {
   "cell_type": "code",
   "execution_count": 4,
   "id": "70ac70c3",
   "metadata": {},
   "outputs": [
    {
     "name": "stdout",
     "output_type": "stream",
     "text": [
      "[[ 5  3 -2]\n",
      " [-1  9 -2]\n",
      " [ 9  3 -3]]\n",
      "(3, 3)\n"
     ]
    }
   ],
   "source": [
    "d = np.dot(a, b)\n",
    "print(d)\n",
    "print(d.shape)"
   ]
  },
  {
   "cell_type": "code",
   "execution_count": 5,
   "id": "bc049dc0",
   "metadata": {},
   "outputs": [
    {
     "name": "stdout",
     "output_type": "stream",
     "text": [
      "[[10  5]\n",
      " [-4  1]]\n",
      "(2, 2)\n"
     ]
    }
   ],
   "source": [
    "f = np.dot(b,a)\n",
    "print(f)\n",
    "print(f.shape)"
   ]
  },
  {
   "cell_type": "code",
   "execution_count": 6,
   "id": "2f8971a5",
   "metadata": {},
   "outputs": [
    {
     "name": "stdout",
     "output_type": "stream",
     "text": [
      "[[-10]\n",
      " [  1]]\n",
      "(2, 1)\n"
     ]
    }
   ],
   "source": [
    "g = np.dot(b,c)\n",
    "print(g)\n",
    "print(g.shape)"
   ]
  },
  {
   "cell_type": "code",
   "execution_count": 7,
   "id": "bff88912",
   "metadata": {},
   "outputs": [
    {
     "name": "stdout",
     "output_type": "stream",
     "text": [
      "[[ -7]\n",
      " [ 11]\n",
      " [-15]]\n",
      "(3, 1)\n"
     ]
    }
   ],
   "source": [
    "h = np.dot(d,c)\n",
    "print(h)\n",
    "print(h.shape)"
   ]
  },
  {
   "cell_type": "code",
   "execution_count": 8,
   "id": "0b1de30a",
   "metadata": {},
   "outputs": [
    {
     "name": "stdout",
     "output_type": "stream",
     "text": [
      "[[0.2 0.  0.  0.  0. ]\n",
      " [0.  0.2 0.  0.  0. ]\n",
      " [0.  0.  0.2 0.  0. ]\n",
      " [0.  0.  0.  0.2 0. ]\n",
      " [0.  0.  0.  0.  0.2]]\n"
     ]
    }
   ],
   "source": [
    "E = np.identity(5)\n",
    "#print(5*e)\n",
    "w=np.linalg.inv(5*E)\n",
    "print(w)"
   ]
  },
  {
   "cell_type": "markdown",
   "id": "fd12ab83",
   "metadata": {},
   "source": [
    "### Задание 2. \n",
    "Вычислите определитель: $\\begin{vmatrix}1&2&3\\\\4&0&6\\\\7&8&9\\end{vmatrix}$\n",
    "\n",
    "Вычислим, используя теорему о разложении\n",
    "\n",
    " $\\det A=\\begin{vmatrix}1&2&3\\\\4&0&6\\\\7&8&9\\end{vmatrix}=-4{\\cdot{\\begin{vmatrix}2&3\\\\8&9\\end{vmatrix}}} + 0 -6{\\cdot{\\begin{vmatrix}1&2\\\\7&8\\end{vmatrix}}} = -4{\\cdot{(18-24)}}-6{\\cdot{(8-14)}}=24+36=60$."
   ]
  },
  {
   "cell_type": "code",
   "execution_count": 11,
   "id": "34a75ef5",
   "metadata": {},
   "outputs": [
    {
     "name": "stdout",
     "output_type": "stream",
     "text": [
      "det(A)= 59.999999999999986\n"
     ]
    }
   ],
   "source": [
    "# в программе\n",
    "A = np.array([[ 1, 2,  3],[ 4, 0, 6], [ 7, 8, 9]])\n",
    "print(\"det(A)=\", np.linalg.det(A))"
   ]
  },
  {
   "cell_type": "markdown",
   "id": "16ff290c",
   "metadata": {},
   "source": [
    "### Задание 3. \n",
    "1. Вычислите матрицу, обратную данной: \n",
    "\n",
    "$ A=\\begin{pmatrix}1&2&3\\\\4&0&6\\\\7&8&9\\end{pmatrix}$"
   ]
  },
  {
   "cell_type": "code",
   "execution_count": 12,
   "id": "23842566",
   "metadata": {},
   "outputs": [
    {
     "name": "stdout",
     "output_type": "stream",
     "text": [
      "[[-0.8         0.1         0.2       ]\n",
      " [ 0.1        -0.2         0.1       ]\n",
      " [ 0.53333333  0.1        -0.13333333]]\n"
     ]
    }
   ],
   "source": [
    "A = np.array([[ 1, 2, 3],[ 4, 0, 6], [ 7, 8, 9]])\n",
    "print(np.linalg.inv(A))"
   ]
  },
  {
   "cell_type": "markdown",
   "id": "039940f5",
   "metadata": {},
   "source": [
    "2. Приведите пример матрицы 4х4, ранг которой равен 1. \n",
    "  \n",
    "Если все миноры второго порядка равны нулю, то ранг равен единице.\n"
   ]
  },
  {
   "cell_type": "code",
   "execution_count": 13,
   "id": "60d6e34f",
   "metadata": {},
   "outputs": [
    {
     "name": "stdout",
     "output_type": "stream",
     "text": [
      "matrix_rank B = 1\n"
     ]
    }
   ],
   "source": [
    "B = np.array([[ 1, 2, 0, 5],[ 2, 4, 0, 10], [4, 8, 0, 20], [ 5, 10, 0, 25]])\n",
    "\n",
    "print(\"matrix_rank B =\", np.linalg.matrix_rank(B, 0.001))"
   ]
  },
  {
   "cell_type": "markdown",
   "id": "1df6ad43",
   "metadata": {},
   "source": [
    "### Задание 4.  \n",
    "Вычислите скалярное произведение двух векторов:  \n",
    "(1, 5)  и  (2, 8)\n"
   ]
  },
  {
   "cell_type": "code",
   "execution_count": 50,
   "id": "78849555",
   "metadata": {},
   "outputs": [
    {
     "data": {
      "text/plain": [
       "42"
      ]
     },
     "execution_count": 50,
     "metadata": {},
     "output_type": "execute_result"
    }
   ],
   "source": [
    "a = np.array([ 1,5])\n",
    "b = np.array([ 2, 8])\n",
    "np.dot(a, b)"
   ]
  },
  {
   "cell_type": "markdown",
   "id": "ca00217c",
   "metadata": {},
   "source": [
    "Проверка: ${\\overline{a}\\cdot{\\overline{b}}=1\\cdot2+5\\cdot8=42}$"
   ]
  },
  {
   "cell_type": "markdown",
   "id": "37bff60f",
   "metadata": {},
   "source": [
    "### Задание 5.  \n",
    "\n",
    "Вычислите смешанное произведение трех векторов: (1, 5, 0), (2, 8, 7) и (7, 1.5, 3) "
   ]
  },
  {
   "cell_type": "code",
   "execution_count": 51,
   "id": "2460095f",
   "metadata": {},
   "outputs": [
    {
     "name": "stdout",
     "output_type": "stream",
     "text": [
      "228.5\n"
     ]
    }
   ],
   "source": [
    "a = np.array([ 1, 5, 0])\n",
    "b = np.array([ 2, 8, 7])\n",
    "c = np.array([ 7, 1.5, 3])\n",
    "\n",
    "v = np.cross(a, b)\n",
    "print(np.inner(v, c))"
   ]
  },
  {
   "cell_type": "markdown",
   "id": "ec627508",
   "metadata": {},
   "source": [
    "Проверка: \n",
    "смешанное произведение векторов можно найти как определитель матрицы, составленных из координат этих векторов\n",
    "\n",
    "${\\overline{a}\\cdot{\\overline{b}}\\cdot{\\overline{c}}}=\\begin{vmatrix}1&5&0\\\\2&8&7\\\\7&1.5&3\\end{vmatrix}$"
   ]
  },
  {
   "cell_type": "code",
   "execution_count": 39,
   "id": "e89ac1b0",
   "metadata": {},
   "outputs": [
    {
     "name": "stdout",
     "output_type": "stream",
     "text": [
      "228.50000000000009\n"
     ]
    }
   ],
   "source": [
    "abc = np.array([[ 1, 5, 0],[ 2, 8, 7], [ 7, 1.5, 3]])\n",
    "print(np.linalg.det(abc))"
   ]
  },
  {
   "cell_type": "code",
   "execution_count": null,
   "id": "09fee1a6",
   "metadata": {},
   "outputs": [],
   "source": []
  }
 ],
 "metadata": {
  "kernelspec": {
   "display_name": "Python 3 (ipykernel)",
   "language": "python",
   "name": "python3"
  },
  "language_info": {
   "codemirror_mode": {
    "name": "ipython",
    "version": 3
   },
   "file_extension": ".py",
   "mimetype": "text/x-python",
   "name": "python",
   "nbconvert_exporter": "python",
   "pygments_lexer": "ipython3",
   "version": "3.9.7"
  }
 },
 "nbformat": 4,
 "nbformat_minor": 5
}
